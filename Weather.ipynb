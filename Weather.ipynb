{
 "cells": [
  {
   "cell_type": "code",
   "execution_count": 1,
   "metadata": {},
   "outputs": [],
   "source": [
    "import requests\n",
    "import pandas as pd\n",
    "from dateutil import parser, rrule\n",
    "from datetime import datetime, time, date\n",
    "import calendar\n",
    "\n",
    "import numpy as np\n",
    "import matplotlib as mpl\n",
    "import matplotlib.pyplot as plt\n",
    "import seaborn as sns\n",
    "sns.set()"
   ]
  },
  {
   "cell_type": "code",
   "execution_count": 2,
   "metadata": {},
   "outputs": [],
   "source": [
    "data_raw=pd.read_csv(\"IEDINBUR6_weather.csv\")"
   ]
  },
  {
   "cell_type": "code",
   "execution_count": 3,
   "metadata": {
    "scrolled": true
   },
   "outputs": [
    {
     "name": "stdout",
     "output_type": "stream",
     "text": [
      "<class 'pandas.core.frame.DataFrame'>\n",
      "RangeIndex: 101443 entries, 0 to 101442\n",
      "Data columns (total 18 columns):\n",
      "Unnamed: 0                 101443 non-null int64\n",
      "Time                       101443 non-null object\n",
      "TemperatureC               101443 non-null float64\n",
      "DewpointC                  101443 non-null float64\n",
      "PressurehPa                101443 non-null float64\n",
      "WindDirection              101443 non-null object\n",
      "WindDirectionDegrees       101443 non-null int64\n",
      "WindSpeedKMH               101443 non-null float64\n",
      "WindSpeedGustKMH           101443 non-null float64\n",
      "Humidity                   101443 non-null int64\n",
      "HourlyPrecipMM             101443 non-null float64\n",
      "Conditions                 0 non-null float64\n",
      "Clouds                     0 non-null float64\n",
      "dailyrainMM                101443 non-null float64\n",
      "SolarRadiationWatts/m^2    101442 non-null float64\n",
      "SoftwareType               101443 non-null object\n",
      "DateUTC                    101443 non-null object\n",
      "station                    101443 non-null object\n",
      "dtypes: float64(10), int64(3), object(5)\n",
      "memory usage: 13.9+ MB\n"
     ]
    }
   ],
   "source": [
    "data_raw.info()"
   ]
  },
  {
   "cell_type": "markdown",
   "metadata": {},
   "source": [
    "## Cleansing and Data Processing"
   ]
  },
  {
   "cell_type": "code",
   "execution_count": 4,
   "metadata": {},
   "outputs": [],
   "source": [
    "# Give the variables some friendlier names and convert types as necessary.\n",
    "\n",
    "data_raw['temp'] = data_raw['TemperatureC'].astype(float)\n",
    "data_raw['rain'] = data_raw['HourlyPrecipMM'].astype(float)\n",
    "data_raw['total_rain'] = data_raw['dailyrainMM'].astype(float)\n",
    "data_raw['date'] = data_raw['DateUTC'].apply(parser.parse)\n",
    "data_raw['humidity'] = data_raw['Humidity'].astype(float)\n",
    "data_raw['wind_direction'] = data_raw['WindDirectionDegrees']\n",
    "data_raw['wind'] = data_raw['WindSpeedKMH']"
   ]
  },
  {
   "cell_type": "code",
   "execution_count": 5,
   "metadata": {},
   "outputs": [
    {
     "name": "stdout",
     "output_type": "stream",
     "text": [
      "<class 'pandas.core.frame.DataFrame'>\n",
      "RangeIndex: 101443 entries, 0 to 101442\n",
      "Data columns (total 25 columns):\n",
      "Unnamed: 0                 101443 non-null int64\n",
      "Time                       101443 non-null object\n",
      "TemperatureC               101443 non-null float64\n",
      "DewpointC                  101443 non-null float64\n",
      "PressurehPa                101443 non-null float64\n",
      "WindDirection              101443 non-null object\n",
      "WindDirectionDegrees       101443 non-null int64\n",
      "WindSpeedKMH               101443 non-null float64\n",
      "WindSpeedGustKMH           101443 non-null float64\n",
      "Humidity                   101443 non-null int64\n",
      "HourlyPrecipMM             101443 non-null float64\n",
      "Conditions                 0 non-null float64\n",
      "Clouds                     0 non-null float64\n",
      "dailyrainMM                101443 non-null float64\n",
      "SolarRadiationWatts/m^2    101442 non-null float64\n",
      "SoftwareType               101443 non-null object\n",
      "DateUTC                    101443 non-null object\n",
      "station                    101443 non-null object\n",
      "temp                       101443 non-null float64\n",
      "rain                       101443 non-null float64\n",
      "total_rain                 101443 non-null float64\n",
      "date                       101443 non-null datetime64[ns]\n",
      "humidity                   101443 non-null float64\n",
      "wind_direction             101443 non-null int64\n",
      "wind                       101443 non-null float64\n",
      "dtypes: datetime64[ns](1), float64(15), int64(4), object(5)\n",
      "memory usage: 19.3+ MB\n"
     ]
    }
   ],
   "source": [
    "data_raw.info()"
   ]
  },
  {
   "cell_type": "code",
   "execution_count": 6,
   "metadata": {},
   "outputs": [],
   "source": [
    "# Extract out only the data we need.\n",
    "\n",
    "data = data_raw.loc[:, ['date', 'station', 'temp', 'rain', 'total_rain', 'humidity', 'wind']]\n",
    "data = data[(data['date'] >= datetime(2015,1,1)) & (data['date'] <= datetime(2015,12,31))]\n"
   ]
  },
  {
   "cell_type": "code",
   "execution_count": 7,
   "metadata": {},
   "outputs": [],
   "source": [
    "# There's an issue with some stations that record rainfall ~-2500 where data is missing.\n",
    "station = 'IEDINBUR6'\n",
    "\n",
    "if (data['rain'] < -500).sum() > 10:\n",
    "    print(\"There's more than 10 messed up days for {}\".format(station))"
   ]
  },
  {
   "cell_type": "code",
   "execution_count": 8,
   "metadata": {},
   "outputs": [],
   "source": [
    "# remove the bad samples\n",
    "\n",
    "data = data[data['rain'] > -500]"
   ]
  },
  {
   "cell_type": "code",
   "execution_count": 9,
   "metadata": {},
   "outputs": [],
   "source": [
    "# Assign the \"day\" to every date entry\n",
    "\n",
    "data['day'] = data['date'].apply(lambda x: x.date())"
   ]
  },
  {
   "cell_type": "code",
   "execution_count": 10,
   "metadata": {},
   "outputs": [],
   "source": [
    "# Get the time, day, and hour of each timestamp in the dataset\n",
    "\n",
    "data['time_of_day'] = data['date'].apply(lambda x: x.time())\n",
    "data['day_of_week'] = data['date'].apply(lambda x: x.weekday())    \n",
    "data['hour_of_day'] = data['time_of_day'].apply(lambda x: x.hour)\n",
    "\n",
    "# Mark the month for each entry so we can look at monthly patterns\n",
    "\n",
    "data['month'] = data['date'].apply(lambda x: x.month)"
   ]
  },
  {
   "cell_type": "code",
   "execution_count": 11,
   "metadata": {},
   "outputs": [],
   "source": [
    "# Is each time stamp on a working day (Mon-Fri) \n",
    "\n",
    "data['working_day'] = (data['day_of_week'] >= 0) & (data['day_of_week'] <= 4)"
   ]
  },
  {
   "cell_type": "code",
   "execution_count": 12,
   "metadata": {},
   "outputs": [],
   "source": [
    "# Classify into morning or evening times (assuming travel between 8.15-9am and 5.15-6pm) as bool\n",
    "\n",
    "data['morning'] = (data['time_of_day'] >= time(8,15)) & (data['time_of_day'] <= time(9,0))\n",
    "data['evening'] = (data['time_of_day'] >= time(17,15)) & (data['time_of_day'] <= time(18,0))"
   ]
  },
  {
   "cell_type": "code",
   "execution_count": 13,
   "metadata": {},
   "outputs": [],
   "source": [
    "# If there's any rain at all, mark that! as bool\n",
    "\n",
    "data['raining'] = data['rain'] > 0.0"
   ]
  },
  {
   "cell_type": "code",
   "execution_count": 14,
   "metadata": {},
   "outputs": [],
   "source": [
    "# You get wet cycling if its a working day, and its raining at the travel times! as bool\n",
    "\n",
    "data['get_wet_cycling'] = (data['working_day']) & ((data['morning'] & data['rain']) |\n",
    "                                                   (data['evening'] & data['rain']))"
   ]
  },
  {
   "cell_type": "code",
   "execution_count": 15,
   "metadata": {},
   "outputs": [
    {
     "name": "stdout",
     "output_type": "stream",
     "text": [
      "<class 'pandas.core.frame.DataFrame'>\n",
      "Int64Index: 101168 entries, 0 to 101168\n",
      "Data columns (total 17 columns):\n",
      "date               101168 non-null datetime64[ns]\n",
      "station            101168 non-null object\n",
      "temp               101168 non-null float64\n",
      "rain               101168 non-null float64\n",
      "total_rain         101168 non-null float64\n",
      "humidity           101168 non-null float64\n",
      "wind               101168 non-null float64\n",
      "day                101168 non-null object\n",
      "time_of_day        101168 non-null object\n",
      "day_of_week        101168 non-null int64\n",
      "hour_of_day        101168 non-null int64\n",
      "month              101168 non-null int64\n",
      "working_day        101168 non-null bool\n",
      "morning            101168 non-null bool\n",
      "evening            101168 non-null bool\n",
      "raining            101168 non-null bool\n",
      "get_wet_cycling    101168 non-null bool\n",
      "dtypes: bool(5), datetime64[ns](1), float64(5), int64(3), object(3)\n",
      "memory usage: 10.5+ MB\n"
     ]
    }
   ],
   "source": [
    "data.info()"
   ]
  },
  {
   "cell_type": "markdown",
   "metadata": {},
   "source": [
    "## Data summarisation and aggregation\n",
    "Data is ready for grouping"
   ]
  },
  {
   "cell_type": "markdown",
   "metadata": {},
   "source": [
    "### With the data cleansed, we now have non-uniform samples of the weather at a given station throughout the year, at a sub-hour level. To make meaningful plots on this data, we can aggregate over the days and months to gain an overall view and to compare across stations."
   ]
  },
  {
   "cell_type": "code",
   "execution_count": 16,
   "metadata": {},
   "outputs": [
    {
     "data": {
      "text/html": [
       "<div>\n",
       "<style scoped>\n",
       "    .dataframe tbody tr th:only-of-type {\n",
       "        vertical-align: middle;\n",
       "    }\n",
       "\n",
       "    .dataframe tbody tr th {\n",
       "        vertical-align: top;\n",
       "    }\n",
       "\n",
       "    .dataframe thead th {\n",
       "        text-align: right;\n",
       "    }\n",
       "</style>\n",
       "<table border=\"1\" class=\"dataframe\">\n",
       "  <thead>\n",
       "    <tr style=\"text-align: right;\">\n",
       "      <th></th>\n",
       "      <th>day</th>\n",
       "      <th>get_wet_cycling</th>\n",
       "    </tr>\n",
       "  </thead>\n",
       "  <tbody>\n",
       "    <tr>\n",
       "      <th>0</th>\n",
       "      <td>2015-01-01</td>\n",
       "      <td>True</td>\n",
       "    </tr>\n",
       "    <tr>\n",
       "      <th>1</th>\n",
       "      <td>2015-01-02</td>\n",
       "      <td>False</td>\n",
       "    </tr>\n",
       "    <tr>\n",
       "      <th>2</th>\n",
       "      <td>2015-01-05</td>\n",
       "      <td>False</td>\n",
       "    </tr>\n",
       "  </tbody>\n",
       "</table>\n",
       "</div>"
      ],
      "text/plain": [
       "          day  get_wet_cycling\n",
       "0  2015-01-01             True\n",
       "1  2015-01-02            False\n",
       "2  2015-01-05            False"
      ]
     },
     "execution_count": 16,
     "metadata": {},
     "output_type": "execute_result"
    }
   ],
   "source": [
    "# Looking at the working days only and create a daily data set of working days:\n",
    "\n",
    "wet_cycling = data[data['working_day'] == True].groupby('day')['get_wet_cycling'].any()\n",
    "wet_cycling = pd.DataFrame(wet_cycling).reset_index()  ## used to make the wetcycling as a new data set and column\n",
    "wet_cycling.head(3)"
   ]
  },
  {
   "cell_type": "code",
   "execution_count": 17,
   "metadata": {},
   "outputs": [],
   "source": [
    "# Group by month for display - monthly data set for plots.\n",
    "\n",
    "wet_cycling['month'] = wet_cycling['day'].apply(lambda x: x.month)\n",
    "\n",
    "monthly= wet_cycling.groupby('month')['get_wet_cycling'].value_counts().rename('Days').reset_index() ## we do the rename because we have a duplicate\n",
    "\n",
    "monthly.rename(columns={\"get_wet_cycling\":\"Rainy\"}, inplace=True)\n",
    "\n",
    "monthly.replace({\"Rainy\": {True: \"Wet\", False:\"Dry\"}}, inplace=True)   \n",
    "\n",
    "monthly['month_name'] = monthly['month'].apply(lambda x: calendar.month_abbr[x])"
   ]
  },
  {
   "cell_type": "code",
   "execution_count": 18,
   "metadata": {},
   "outputs": [
    {
     "data": {
      "text/html": [
       "<div>\n",
       "<style scoped>\n",
       "    .dataframe tbody tr th:only-of-type {\n",
       "        vertical-align: middle;\n",
       "    }\n",
       "\n",
       "    .dataframe tbody tr th {\n",
       "        vertical-align: top;\n",
       "    }\n",
       "\n",
       "    .dataframe thead th {\n",
       "        text-align: right;\n",
       "    }\n",
       "</style>\n",
       "<table border=\"1\" class=\"dataframe\">\n",
       "  <thead>\n",
       "    <tr style=\"text-align: right;\">\n",
       "      <th></th>\n",
       "      <th>month</th>\n",
       "      <th>Rainy</th>\n",
       "      <th>Days</th>\n",
       "      <th>month_name</th>\n",
       "    </tr>\n",
       "  </thead>\n",
       "  <tbody>\n",
       "    <tr>\n",
       "      <th>0</th>\n",
       "      <td>1</td>\n",
       "      <td>Dry</td>\n",
       "      <td>16</td>\n",
       "      <td>Jan</td>\n",
       "    </tr>\n",
       "    <tr>\n",
       "      <th>1</th>\n",
       "      <td>1</td>\n",
       "      <td>Wet</td>\n",
       "      <td>6</td>\n",
       "      <td>Jan</td>\n",
       "    </tr>\n",
       "    <tr>\n",
       "      <th>2</th>\n",
       "      <td>2</td>\n",
       "      <td>Dry</td>\n",
       "      <td>19</td>\n",
       "      <td>Feb</td>\n",
       "    </tr>\n",
       "    <tr>\n",
       "      <th>3</th>\n",
       "      <td>2</td>\n",
       "      <td>Wet</td>\n",
       "      <td>1</td>\n",
       "      <td>Feb</td>\n",
       "    </tr>\n",
       "    <tr>\n",
       "      <th>4</th>\n",
       "      <td>3</td>\n",
       "      <td>Dry</td>\n",
       "      <td>18</td>\n",
       "      <td>Mar</td>\n",
       "    </tr>\n",
       "  </tbody>\n",
       "</table>\n",
       "</div>"
      ],
      "text/plain": [
       "   month Rainy  Days month_name\n",
       "0      1   Dry    16        Jan\n",
       "1      1   Wet     6        Jan\n",
       "2      2   Dry    19        Feb\n",
       "3      2   Wet     1        Feb\n",
       "4      3   Dry    18        Mar"
      ]
     },
     "execution_count": 18,
     "metadata": {},
     "output_type": "execute_result"
    }
   ],
   "source": [
    "monthly.head(5)"
   ]
  },
  {
   "cell_type": "code",
   "execution_count": 19,
   "metadata": {
    "scrolled": true
   },
   "outputs": [
    {
     "name": "stderr",
     "output_type": "stream",
     "text": [
      "C:\\Users\\ramzi\\Anaconda3\\lib\\site-packages\\pandas\\core\\groupby\\groupby.py:4656: FutureWarning: using a dict with renaming is deprecated and will be removed in a future version\n",
      "  return super(DataFrameGroupBy, self).aggregate(arg, *args, **kwargs)\n"
     ]
    }
   ],
   "source": [
    "# Get aggregate stats for each day in the dataset on rain in general - for heatmaps.\n",
    "\n",
    "rainy_days = data.groupby(['day']).agg({\n",
    "        \"rain\": {\"rain\": lambda x: (x > 0.0).any(), ## .any() return Boolian\n",
    "                 \"rain_amount\": \"sum\"},\n",
    "        \"total_rain\": {\"total_rain\": \"max\"},\n",
    "        \"get_wet_cycling\": {\"get_wet_cycling\": \"any\"}\n",
    "        })    "
   ]
  },
  {
   "cell_type": "code",
   "execution_count": 20,
   "metadata": {
    "scrolled": true
   },
   "outputs": [
    {
     "data": {
      "text/html": [
       "<div>\n",
       "<style scoped>\n",
       "    .dataframe tbody tr th:only-of-type {\n",
       "        vertical-align: middle;\n",
       "    }\n",
       "\n",
       "    .dataframe tbody tr th {\n",
       "        vertical-align: top;\n",
       "    }\n",
       "\n",
       "    .dataframe thead tr th {\n",
       "        text-align: left;\n",
       "    }\n",
       "\n",
       "    .dataframe thead tr:last-of-type th {\n",
       "        text-align: right;\n",
       "    }\n",
       "</style>\n",
       "<table border=\"1\" class=\"dataframe\">\n",
       "  <thead>\n",
       "    <tr>\n",
       "      <th></th>\n",
       "      <th colspan=\"2\" halign=\"left\">rain</th>\n",
       "      <th>total_rain</th>\n",
       "      <th>get_wet_cycling</th>\n",
       "    </tr>\n",
       "    <tr>\n",
       "      <th></th>\n",
       "      <th>rain</th>\n",
       "      <th>rain_amount</th>\n",
       "      <th>total_rain</th>\n",
       "      <th>get_wet_cycling</th>\n",
       "    </tr>\n",
       "    <tr>\n",
       "      <th>day</th>\n",
       "      <th></th>\n",
       "      <th></th>\n",
       "      <th></th>\n",
       "      <th></th>\n",
       "    </tr>\n",
       "  </thead>\n",
       "  <tbody>\n",
       "    <tr>\n",
       "      <th>2015-01-01</th>\n",
       "      <td>True</td>\n",
       "      <td>52.2</td>\n",
       "      <td>4.6</td>\n",
       "      <td>True</td>\n",
       "    </tr>\n",
       "    <tr>\n",
       "      <th>2015-01-02</th>\n",
       "      <td>True</td>\n",
       "      <td>52.0</td>\n",
       "      <td>4.8</td>\n",
       "      <td>False</td>\n",
       "    </tr>\n",
       "    <tr>\n",
       "      <th>2015-01-03</th>\n",
       "      <td>False</td>\n",
       "      <td>0.0</td>\n",
       "      <td>0.0</td>\n",
       "      <td>False</td>\n",
       "    </tr>\n",
       "    <tr>\n",
       "      <th>2015-01-04</th>\n",
       "      <td>False</td>\n",
       "      <td>0.0</td>\n",
       "      <td>0.0</td>\n",
       "      <td>False</td>\n",
       "    </tr>\n",
       "    <tr>\n",
       "      <th>2015-01-05</th>\n",
       "      <td>False</td>\n",
       "      <td>0.0</td>\n",
       "      <td>0.0</td>\n",
       "      <td>False</td>\n",
       "    </tr>\n",
       "  </tbody>\n",
       "</table>\n",
       "</div>"
      ],
      "text/plain": [
       "             rain             total_rain get_wet_cycling\n",
       "             rain rain_amount total_rain get_wet_cycling\n",
       "day                                                     \n",
       "2015-01-01   True        52.2        4.6            True\n",
       "2015-01-02   True        52.0        4.8           False\n",
       "2015-01-03  False         0.0        0.0           False\n",
       "2015-01-04  False         0.0        0.0           False\n",
       "2015-01-05  False         0.0        0.0           False"
      ]
     },
     "execution_count": 20,
     "metadata": {},
     "output_type": "execute_result"
    }
   ],
   "source": [
    "rainy_days.head(5)"
   ]
  },
  {
   "cell_type": "code",
   "execution_count": 21,
   "metadata": {},
   "outputs": [],
   "source": [
    "# clean up the aggregated data to a more easily analysed set:\n",
    "\n",
    "rainy_days.reset_index(drop=False, inplace=True) # remove the 'day' as the index # inplace uses the existing target without the need to assign a new target.\n",
    "rainy_days.rename(columns={\"\":\"date\"}, inplace=True) # The old index column didn't have a name - add \"date\" as name\n",
    "rainy_days.columns = rainy_days.columns.droplevel(level=0) # The aggregation left us with a multi-index\n",
    "                                                           # Remove the top level of this index.\n",
    "rainy_days['rain'] = rainy_days['rain'].astype(bool)       # Change the \"rain\" column to True/False values\n",
    "\n"
   ]
  },
  {
   "cell_type": "code",
   "execution_count": 22,
   "metadata": {},
   "outputs": [
    {
     "data": {
      "text/html": [
       "<div>\n",
       "<style scoped>\n",
       "    .dataframe tbody tr th:only-of-type {\n",
       "        vertical-align: middle;\n",
       "    }\n",
       "\n",
       "    .dataframe tbody tr th {\n",
       "        vertical-align: top;\n",
       "    }\n",
       "\n",
       "    .dataframe thead th {\n",
       "        text-align: right;\n",
       "    }\n",
       "</style>\n",
       "<table border=\"1\" class=\"dataframe\">\n",
       "  <thead>\n",
       "    <tr style=\"text-align: right;\">\n",
       "      <th></th>\n",
       "      <th>date</th>\n",
       "      <th>rain</th>\n",
       "      <th>rain_amount</th>\n",
       "      <th>total_rain</th>\n",
       "      <th>get_wet_cycling</th>\n",
       "    </tr>\n",
       "  </thead>\n",
       "  <tbody>\n",
       "    <tr>\n",
       "      <th>0</th>\n",
       "      <td>2015-01-01</td>\n",
       "      <td>True</td>\n",
       "      <td>52.2</td>\n",
       "      <td>4.6</td>\n",
       "      <td>True</td>\n",
       "    </tr>\n",
       "    <tr>\n",
       "      <th>1</th>\n",
       "      <td>2015-01-02</td>\n",
       "      <td>True</td>\n",
       "      <td>52.0</td>\n",
       "      <td>4.8</td>\n",
       "      <td>False</td>\n",
       "    </tr>\n",
       "    <tr>\n",
       "      <th>2</th>\n",
       "      <td>2015-01-03</td>\n",
       "      <td>False</td>\n",
       "      <td>0.0</td>\n",
       "      <td>0.0</td>\n",
       "      <td>False</td>\n",
       "    </tr>\n",
       "    <tr>\n",
       "      <th>3</th>\n",
       "      <td>2015-01-04</td>\n",
       "      <td>False</td>\n",
       "      <td>0.0</td>\n",
       "      <td>0.0</td>\n",
       "      <td>False</td>\n",
       "    </tr>\n",
       "    <tr>\n",
       "      <th>4</th>\n",
       "      <td>2015-01-05</td>\n",
       "      <td>False</td>\n",
       "      <td>0.0</td>\n",
       "      <td>0.0</td>\n",
       "      <td>False</td>\n",
       "    </tr>\n",
       "  </tbody>\n",
       "</table>\n",
       "</div>"
      ],
      "text/plain": [
       "         date   rain  rain_amount  total_rain  get_wet_cycling\n",
       "0  2015-01-01   True         52.2         4.6             True\n",
       "1  2015-01-02   True         52.0         4.8            False\n",
       "2  2015-01-03  False          0.0         0.0            False\n",
       "3  2015-01-04  False          0.0         0.0            False\n",
       "4  2015-01-05  False          0.0         0.0            False"
      ]
     },
     "execution_count": 22,
     "metadata": {},
     "output_type": "execute_result"
    }
   ],
   "source": [
    "rainy_days.head(5)"
   ]
  },
  {
   "cell_type": "code",
   "execution_count": 23,
   "metadata": {},
   "outputs": [],
   "source": [
    "# Add the number of rainy hours per day to the rainy_days dataset.\n",
    "\n",
    "temp = data.groupby([\"day\", \"hour_of_day\"])['raining'].any()\n"
   ]
  },
  {
   "cell_type": "code",
   "execution_count": 24,
   "metadata": {
    "scrolled": true
   },
   "outputs": [
    {
     "data": {
      "text/plain": [
       "day         hour_of_day\n",
       "2015-01-01  0              False\n",
       "            1              False\n",
       "            2              False\n",
       "            3              False\n",
       "            4              False\n",
       "Name: raining, dtype: bool"
      ]
     },
     "execution_count": 24,
     "metadata": {},
     "output_type": "execute_result"
    }
   ],
   "source": [
    "temp.head(5)"
   ]
  },
  {
   "cell_type": "code",
   "execution_count": 25,
   "metadata": {},
   "outputs": [],
   "source": [
    "temp = temp.groupby(level=[0]).sum().reset_index()"
   ]
  },
  {
   "cell_type": "code",
   "execution_count": 26,
   "metadata": {},
   "outputs": [
    {
     "data": {
      "text/html": [
       "<div>\n",
       "<style scoped>\n",
       "    .dataframe tbody tr th:only-of-type {\n",
       "        vertical-align: middle;\n",
       "    }\n",
       "\n",
       "    .dataframe tbody tr th {\n",
       "        vertical-align: top;\n",
       "    }\n",
       "\n",
       "    .dataframe thead th {\n",
       "        text-align: right;\n",
       "    }\n",
       "</style>\n",
       "<table border=\"1\" class=\"dataframe\">\n",
       "  <thead>\n",
       "    <tr style=\"text-align: right;\">\n",
       "      <th></th>\n",
       "      <th>day</th>\n",
       "      <th>raining</th>\n",
       "    </tr>\n",
       "  </thead>\n",
       "  <tbody>\n",
       "    <tr>\n",
       "      <th>0</th>\n",
       "      <td>2015-01-01</td>\n",
       "      <td>10.0</td>\n",
       "    </tr>\n",
       "    <tr>\n",
       "      <th>1</th>\n",
       "      <td>2015-01-02</td>\n",
       "      <td>8.0</td>\n",
       "    </tr>\n",
       "    <tr>\n",
       "      <th>2</th>\n",
       "      <td>2015-01-03</td>\n",
       "      <td>0.0</td>\n",
       "    </tr>\n",
       "    <tr>\n",
       "      <th>3</th>\n",
       "      <td>2015-01-04</td>\n",
       "      <td>0.0</td>\n",
       "    </tr>\n",
       "    <tr>\n",
       "      <th>4</th>\n",
       "      <td>2015-01-05</td>\n",
       "      <td>0.0</td>\n",
       "    </tr>\n",
       "  </tbody>\n",
       "</table>\n",
       "</div>"
      ],
      "text/plain": [
       "          day  raining\n",
       "0  2015-01-01     10.0\n",
       "1  2015-01-02      8.0\n",
       "2  2015-01-03      0.0\n",
       "3  2015-01-04      0.0\n",
       "4  2015-01-05      0.0"
      ]
     },
     "execution_count": 26,
     "metadata": {},
     "output_type": "execute_result"
    }
   ],
   "source": [
    "temp.head(5)"
   ]
  },
  {
   "cell_type": "code",
   "execution_count": 27,
   "metadata": {},
   "outputs": [],
   "source": [
    "temp.rename(columns={'raining': 'hours_raining'}, inplace=True)\n",
    "#temp['day'] = temp['day'].apply(lambda x: x.to_datetime().date())\n",
    "#temp=temp.drop(['day'],axis=1)"
   ]
  },
  {
   "cell_type": "code",
   "execution_count": 28,
   "metadata": {},
   "outputs": [
    {
     "data": {
      "text/html": [
       "<div>\n",
       "<style scoped>\n",
       "    .dataframe tbody tr th:only-of-type {\n",
       "        vertical-align: middle;\n",
       "    }\n",
       "\n",
       "    .dataframe tbody tr th {\n",
       "        vertical-align: top;\n",
       "    }\n",
       "\n",
       "    .dataframe thead th {\n",
       "        text-align: right;\n",
       "    }\n",
       "</style>\n",
       "<table border=\"1\" class=\"dataframe\">\n",
       "  <thead>\n",
       "    <tr style=\"text-align: right;\">\n",
       "      <th></th>\n",
       "      <th>day</th>\n",
       "      <th>hours_raining</th>\n",
       "    </tr>\n",
       "  </thead>\n",
       "  <tbody>\n",
       "    <tr>\n",
       "      <th>0</th>\n",
       "      <td>2015-01-01</td>\n",
       "      <td>10.0</td>\n",
       "    </tr>\n",
       "    <tr>\n",
       "      <th>1</th>\n",
       "      <td>2015-01-02</td>\n",
       "      <td>8.0</td>\n",
       "    </tr>\n",
       "    <tr>\n",
       "      <th>2</th>\n",
       "      <td>2015-01-03</td>\n",
       "      <td>0.0</td>\n",
       "    </tr>\n",
       "    <tr>\n",
       "      <th>3</th>\n",
       "      <td>2015-01-04</td>\n",
       "      <td>0.0</td>\n",
       "    </tr>\n",
       "    <tr>\n",
       "      <th>4</th>\n",
       "      <td>2015-01-05</td>\n",
       "      <td>0.0</td>\n",
       "    </tr>\n",
       "  </tbody>\n",
       "</table>\n",
       "</div>"
      ],
      "text/plain": [
       "          day  hours_raining\n",
       "0  2015-01-01           10.0\n",
       "1  2015-01-02            8.0\n",
       "2  2015-01-03            0.0\n",
       "3  2015-01-04            0.0\n",
       "4  2015-01-05            0.0"
      ]
     },
     "execution_count": 28,
     "metadata": {},
     "output_type": "execute_result"
    }
   ],
   "source": [
    "temp.head(5)"
   ]
  },
  {
   "cell_type": "code",
   "execution_count": 29,
   "metadata": {},
   "outputs": [
    {
     "data": {
      "text/html": [
       "<div>\n",
       "<style scoped>\n",
       "    .dataframe tbody tr th:only-of-type {\n",
       "        vertical-align: middle;\n",
       "    }\n",
       "\n",
       "    .dataframe tbody tr th {\n",
       "        vertical-align: top;\n",
       "    }\n",
       "\n",
       "    .dataframe thead th {\n",
       "        text-align: right;\n",
       "    }\n",
       "</style>\n",
       "<table border=\"1\" class=\"dataframe\">\n",
       "  <thead>\n",
       "    <tr style=\"text-align: right;\">\n",
       "      <th></th>\n",
       "      <th>date</th>\n",
       "      <th>rain</th>\n",
       "      <th>rain_amount</th>\n",
       "      <th>total_rain</th>\n",
       "      <th>get_wet_cycling</th>\n",
       "      <th>hours_raining</th>\n",
       "    </tr>\n",
       "  </thead>\n",
       "  <tbody>\n",
       "    <tr>\n",
       "      <th>0</th>\n",
       "      <td>2015-01-01</td>\n",
       "      <td>True</td>\n",
       "      <td>52.2</td>\n",
       "      <td>4.6</td>\n",
       "      <td>True</td>\n",
       "      <td>10.0</td>\n",
       "    </tr>\n",
       "    <tr>\n",
       "      <th>1</th>\n",
       "      <td>2015-01-02</td>\n",
       "      <td>True</td>\n",
       "      <td>52.0</td>\n",
       "      <td>4.8</td>\n",
       "      <td>False</td>\n",
       "      <td>8.0</td>\n",
       "    </tr>\n",
       "    <tr>\n",
       "      <th>2</th>\n",
       "      <td>2015-01-03</td>\n",
       "      <td>False</td>\n",
       "      <td>0.0</td>\n",
       "      <td>0.0</td>\n",
       "      <td>False</td>\n",
       "      <td>0.0</td>\n",
       "    </tr>\n",
       "    <tr>\n",
       "      <th>3</th>\n",
       "      <td>2015-01-04</td>\n",
       "      <td>False</td>\n",
       "      <td>0.0</td>\n",
       "      <td>0.0</td>\n",
       "      <td>False</td>\n",
       "      <td>0.0</td>\n",
       "    </tr>\n",
       "    <tr>\n",
       "      <th>4</th>\n",
       "      <td>2015-01-05</td>\n",
       "      <td>False</td>\n",
       "      <td>0.0</td>\n",
       "      <td>0.0</td>\n",
       "      <td>False</td>\n",
       "      <td>0.0</td>\n",
       "    </tr>\n",
       "  </tbody>\n",
       "</table>\n",
       "</div>"
      ],
      "text/plain": [
       "         date   rain  rain_amount  total_rain  get_wet_cycling  hours_raining\n",
       "0  2015-01-01   True         52.2         4.6             True           10.0\n",
       "1  2015-01-02   True         52.0         4.8            False            8.0\n",
       "2  2015-01-03  False          0.0         0.0            False            0.0\n",
       "3  2015-01-04  False          0.0         0.0            False            0.0\n",
       "4  2015-01-05  False          0.0         0.0            False            0.0"
      ]
     },
     "execution_count": 29,
     "metadata": {},
     "output_type": "execute_result"
    }
   ],
   "source": [
    "rainy_days = rainy_days.merge(temp, left_on='date', right_on='day', how='left')\n",
    "rainy_days.drop('day', axis=1, inplace=True)\n",
    "\n",
    "rainy_days.head(5)"
   ]
  },
  {
   "cell_type": "code",
   "execution_count": 30,
   "metadata": {},
   "outputs": [
    {
     "name": "stdout",
     "output_type": "stream",
     "text": [
      "In the year, there were 194 rainy days of 364 at IEDINBUR6\n",
      "It was wet while cycling 44 working days of 260 at IEDINBUR6\n",
      "You get wet cycling 16.923076923076923 % of the time!!\n"
     ]
    }
   ],
   "source": [
    "print (\"In the year, there were {} rainy days of {} at {}\".format(rainy_days['rain'].sum(), len(rainy_days), station))  \n",
    "print (\"It was wet while cycling {} working days of {} at {}\".format(wet_cycling['get_wet_cycling'].sum(), \n",
    "                                                      len(wet_cycling),\n",
    "                                                     station))\n",
    "print (\"You get wet cycling {} % of the time!!\".format(wet_cycling['get_wet_cycling'].sum()*1.0*100/len(wet_cycling)))"
   ]
  },
  {
   "cell_type": "markdown",
   "metadata": {},
   "source": [
    "## Visualisation using Pandas and Seaborn"
   ]
  },
  {
   "cell_type": "code",
   "execution_count": 31,
   "metadata": {},
   "outputs": [
    {
     "data": {
      "text/plain": [
       "Text(0.5, 1.0, 'Wet or Dry Commuting in IEDINBUR6')"
      ]
     },
     "execution_count": 31,
     "metadata": {},
     "output_type": "execute_result"
    },
    {
     "data": {
      "image/png": "[encoded data removed]",
      "text/plain": [
       "<Figure size 864x576 with 1 Axes>"
      ]
     },
     "metadata": {
      "needs_background": "light"
     },
     "output_type": "display_data"
    }
   ],
   "source": [
    "# Monthly plot of rainy days\n",
    "\n",
    "plt.figure(figsize=(12,8))\n",
    "sns.set_style(\"whitegrid\")\n",
    "sns.set_context(\"notebook\", font_scale=2)\n",
    "sns.barplot(x=\"month_name\", y=\"Days\", hue=\"Rainy\", data=monthly.sort_values(['month', 'Rainy']))\n",
    "plt.xlabel(\"Month\")\n",
    "plt.ylabel(\"Number of Days\")\n",
    "plt.title(\"Wet or Dry Commuting in {}\".format(station))"
   ]
  },
  {
   "cell_type": "code",
   "execution_count": null,
   "metadata": {},
   "outputs": [],
   "source": []
  },
  {
   "cell_type": "code",
   "execution_count": null,
   "metadata": {},
   "outputs": [],
   "source": []
  },
  {
   "cell_type": "code",
   "execution_count": 33,
   "metadata": {},
   "outputs": [],
   "source": [
    "def analyse_station(data_raw, station):\n",
    "    \"\"\"\n",
    "    Function to analyse weather data for a period from one weather station.\n",
    "    \n",
    "    Args:\n",
    "        data_raw (pd.DataFrame): Pandas Dataframe made from CSV downloaded from wunderground.com\n",
    "        station (String): Name of station being analysed (for comments)\n",
    "    \n",
    "    Returns:\n",
    "        dict: Dictionary with analysis in keys:\n",
    "            data: Processed and cleansed data\n",
    "            monthly: Monthly aggregated statistics on rainfall etc.\n",
    "            wet_cycling: Data on working days and whether you get wet or not commuting\n",
    "            rainy_days: Daily total rainfall for each day in dataset.\n",
    "    \"\"\"\n",
    "    # Give the variables some friendlier names and convert types as necessary.\n",
    "    data_raw['temp'] = data_raw['TemperatureC'].astype(float)\n",
    "    data_raw['rain'] = data_raw['HourlyPrecipMM'].astype(float)\n",
    "    data_raw['total_rain'] = data_raw['dailyrainMM'].astype(float)\n",
    "    data_raw['date'] = data_raw['DateUTC'].apply(parser.parse)\n",
    "    data_raw['humidity'] = data_raw['Humidity'].astype(float)\n",
    "    data_raw['wind_direction'] = data_raw['WindDirectionDegrees']\n",
    "    data_raw['wind'] = data_raw['WindSpeedKMH']\n",
    "    \n",
    "    # Extract out only the data we need.\n",
    "    data = data_raw.loc[:, ['date', 'station', 'temp', 'rain', 'total_rain', 'humidity', 'wind']]\n",
    "    data = data[(data['date'] >= datetime(2015,1,1)) & (data['date'] <= datetime(2015,12,31))]\n",
    "    \n",
    "    # There's an issue with some stations that record rainfall ~-2500 where data is missing.\n",
    "    if (data['rain'] < -500).sum() > 10:\n",
    "        print(\"There's more than 10 messed up days for {}\".format(station))\n",
    "        \n",
    "    # remove the bad samples\n",
    "    data = data[data['rain'] > -500]\n",
    "\n",
    "    # Assign the \"day\" to every date entry\n",
    "    data['day'] = data['date'].apply(lambda x: x.date())\n",
    "\n",
    "    # Get the time, day, and hour of each timestamp in the dataset\n",
    "    data['time_of_day'] = data['date'].apply(lambda x: x.time())\n",
    "    data['day_of_week'] = data['date'].apply(lambda x: x.weekday())    \n",
    "    data['hour_of_day'] = data['time_of_day'].apply(lambda x: x.hour)\n",
    "    # Mark the month for each entry so we can look at monthly patterns\n",
    "    data['month'] = data['date'].apply(lambda x: x.month)\n",
    "\n",
    "    # Is each time stamp on a working day (Mon-Fri)\n",
    "    data['working_day'] = (data['day_of_week'] >= 0) & (data['day_of_week'] <= 4)\n",
    "\n",
    "    # Classify into morning or evening times (assuming travel between 8.15-9am and 5.15-6pm)\n",
    "    data['morning'] = (data['time_of_day'] >= time(8,15)) & (data['time_of_day'] <= time(9,0))\n",
    "    data['evening'] = (data['time_of_day'] >= time(17,15)) & (data['time_of_day'] <= time(18,0))\n",
    "\n",
    "    # If there's any rain at all, mark that!\n",
    "    data['raining'] = data['rain'] > 0.0\n",
    "\n",
    "    # You get wet cycling if its a working day, and its raining at the travel times!\n",
    "    data['get_wet_cycling'] = (data['working_day']) & ((data['morning'] & data['rain']) |\n",
    "                                                       (data['evening'] & data['rain']))\n",
    "    # Looking at the working days only:\n",
    "    wet_cycling = data[data['working_day'] == True].groupby('day')['get_wet_cycling'].any()\n",
    "    wet_cycling = pd.DataFrame(wet_cycling).reset_index()\n",
    "    \n",
    "    # Group by month for display\n",
    "    wet_cycling['month'] = wet_cycling['day'].apply(lambda x: x.month)\n",
    "    monthly = wet_cycling.groupby('month')['get_wet_cycling'].value_counts().rename('Days').reset_index()\n",
    "    monthly.rename(columns={\"get_wet_cycling\":\"Rainy\"}, inplace=True)\n",
    "    monthly.replace({\"Rainy\": {True: \"Wet\", False:\"Dry\"}}, inplace=True)    \n",
    "    monthly['month_name'] = monthly['month'].apply(lambda x: calendar.month_abbr[x])\n",
    "    \n",
    "    # Get aggregate stats for each day in the dataset.\n",
    "    rainy_days = data.groupby(['day']).agg({\n",
    "            \"rain\": {\"rain\": lambda x: (x > 0.0).any(),\n",
    "                     \"rain_amount\": \"sum\"},\n",
    "            \"total_rain\": {\"total_rain\": \"max\"},\n",
    "            \"get_wet_cycling\": {\"get_wet_cycling\": \"any\"}\n",
    "            })    \n",
    "    rainy_days.reset_index(drop=False, inplace=True)\n",
    "    rainy_days.rename(columns={\"\":\"date\"}, inplace=True)\n",
    "    rainy_days.columns = rainy_days.columns.droplevel(level=0)\n",
    "    rainy_days['rain'] = rainy_days['rain'].astype(bool)            \n",
    "    \n",
    "    # Also get the number of hours per day where its raining, and add this to the rainy_days dataset.\n",
    "    temp = data.groupby([\"day\", \"hour_of_day\"])['raining'].any()\n",
    "    temp = temp.groupby(level=[0]).sum().reset_index()\n",
    "    temp.rename(columns={'raining': 'hours_raining'}, inplace=True)\n",
    "    #temp['day'] = temp['day'].apply(lambda x: x.to_datetime().date())\n",
    "    rainy_days = rainy_days.merge(temp, left_on='date', right_on='day', how='left')\n",
    "    rainy_days.drop('day', axis=1, inplace=True)\n",
    "\n",
    "    return {\"data\":data, 'monthly':monthly, \"wet_cycling\":wet_cycling, 'rainy_days': rainy_days}"
   ]
  },
  {
   "cell_type": "code",
   "execution_count": null,
   "metadata": {},
   "outputs": [],
   "source": []
  },
  {
   "cell_type": "code",
   "execution_count": 34,
   "metadata": {
    "scrolled": true
   },
   "outputs": [
    {
     "name": "stdout",
     "output_type": "stream",
     "text": [
      "There's more than 10 messed up days for IAMSTERD55\n"
     ]
    },
    {
     "name": "stderr",
     "output_type": "stream",
     "text": [
      "C:\\Users\\ramzi\\Anaconda3\\lib\\site-packages\\pandas\\core\\groupby\\groupby.py:4656: FutureWarning: using a dict with renaming is deprecated and will be removed in a future version\n",
      "  return super(DataFrameGroupBy, self).aggregate(arg, *args, **kwargs)\n"
     ]
    },
    {
     "name": "stdout",
     "output_type": "stream",
     "text": [
      "There's more than 10 messed up days for IBERLINB54\n",
      "There's more than 10 messed up days for KCASANFR148\n",
      "There's more than 10 messed up days for IRENFREW4\n"
     ]
    }
   ],
   "source": [
    "# Load up each of the stations into memory.\n",
    "stations = [\n",
    " (\"IAMSTERD55\", \"Amsterdam\"),\n",
    " (\"IBCNORTH17\", \"Vancouver\"),\n",
    " (\"IBELFAST4\", \"Belfast\"),\n",
    " (\"IBERLINB54\", \"Berlin\"),\n",
    " (\"ICOGALWA4\", \"Galway\"),\n",
    " (\"ICOMUNID56\", \"Madrid\"),\n",
    " (\"IDUBLIND35\", \"Dublin\"),\n",
    " (\"ILAZIORO71\", \"Rome\"),\n",
    " (\"ILEDEFRA6\", \"Paris\"),\n",
    " (\"ILONDONL28\", \"London\"),\n",
    " (\"IMUNSTER11\", \"Cork\"),\n",
    " (\"INEWSOUT455\", \"Sydney\"),\n",
    " (\"ISOPAULO61\", \"Sao Paulo\"),\n",
    " (\"IWESTERN99\", \"Cape Town\"),\n",
    " (\"KCASANFR148\", \"San Francisco\"),\n",
    " (\"KNYBROOK40\", \"New York\"),\n",
    " (\"IRENFREW4\", \"Glasgow\"),\n",
    " (\"IENGLAND64\", \"Liverpool\"),\n",
    " ('IEDINBUR6', 'Edinburgh')\n",
    "]\n",
    "data = []\n",
    "for station in stations:\n",
    "   weather = {}\n",
    "   weather['data'] = pd.read_csv(\"{}_weather.csv\".format(station[0]))\n",
    "   weather['station'] = station[0]\n",
    "   weather['name'] = station[1]\n",
    "   data.append(weather)\n",
    "    \n",
    "\n",
    "for ii in range(len(data)):\n",
    "    data[ii]['result'] = analyse_station(data[ii]['data'], data[ii]['station'])\n",
    " \n",
    "\n",
    "# Now extract the number of wet days, the number of wet cycling days, and the number of wet commutes for a single chart.\n",
    "\n",
    "output = []\n",
    "for ii in range(len(data)):\n",
    "    temp = {\n",
    "            \"total_wet_days\": data[ii]['result']['rainy_days']['rain'].sum(),\n",
    "            \"wet_commutes\": data[ii]['result']['wet_cycling']['get_wet_cycling'].sum(),\n",
    "            \"commutes\": len(data[ii]['result']['wet_cycling']),\n",
    "            \"city\": data[ii]['name']\n",
    "        }\n",
    "    temp['percent_wet_commute'] = (temp['wet_commutes'] *1.0 / temp['commutes'])*100\n",
    "    output.append(temp)\n",
    "output = pd.DataFrame(output)"
   ]
  },
  {
   "cell_type": "markdown",
   "metadata": {},
   "source": [
    "## Using seaborn "
   ]
  },
  {
   "cell_type": "code",
   "execution_count": null,
   "metadata": {},
   "outputs": [],
   "source": []
  },
  {
   "cell_type": "code",
   "execution_count": 35,
   "metadata": {},
   "outputs": [
    {
     "data": {
      "text/plain": [
       "(array([ 0,  1,  2,  3,  4,  5,  6,  7,  8,  9, 10, 11, 12, 13, 14, 15, 16,\n",
       "        17, 18]), <a list of 19 Text xticklabel objects>)"
      ]
     },
     "execution_count": 35,
     "metadata": {},
     "output_type": "execute_result"
    },
    {
     "data": {
      "image/png": "[encoded data removed]",
      "text/plain": [
       "<Figure size 1440x576 with 1 Axes>"
      ]
     },
     "metadata": {},
     "output_type": "display_data"
    }
   ],
   "source": [
    "# Generate plot of percentage of wet commutes\n",
    "plt.figure(figsize=(20,8))\n",
    "sns.set_style(\"whitegrid\")    # Set style for seaborn output\n",
    "sns.set_context(\"notebook\", font_scale=2)\n",
    "sns.barplot(x=\"city\", y=\"percent_wet_commute\", data=output.sort_values('percent_wet_commute', ascending=False))\n",
    "plt.xlabel(\"City\")\n",
    "plt.ylabel(\"Percentage of Wet Commutes (%)\")\n",
    "plt.suptitle(\"What percentage of your cycles to work do you need a raincoat?\", y=1.05, fontsize=32)\n",
    "plt.title(\"Based on Wundergroud.com weather data for 2015\", fontsize=18)\n",
    "plt.xticks(rotation=60)"
   ]
  },
  {
   "cell_type": "code",
   "execution_count": null,
   "metadata": {},
   "outputs": [],
   "source": []
  }
 ],
 "metadata": {
  "kernelspec": {
   "display_name": "Python 3",
   "language": "python",
   "name": "python3"
  },
  "language_info": {
   "codemirror_mode": {
    "name": "ipython",
    "version": 3
   },
   "file_extension": ".py",
   "mimetype": "text/x-python",
   "name": "python",
   "nbconvert_exporter": "python",
   "pygments_lexer": "ipython3",
   "version": "3.7.1"
  }
 },
 "nbformat": 4,
 "nbformat_minor": 2
}
